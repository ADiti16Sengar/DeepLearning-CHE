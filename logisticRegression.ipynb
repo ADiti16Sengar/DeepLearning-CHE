{
  "nbformat": 4,
  "nbformat_minor": 0,
  "metadata": {
    "colab": {
      "provenance": [],
      "authorship_tag": "ABX9TyOOMOiVQtS9P3DDgYZO1q8z",
      "include_colab_link": true
    },
    "kernelspec": {
      "name": "python3",
      "display_name": "Python 3"
    },
    "language_info": {
      "name": "python"
    },
    "widgets": {
      "application/vnd.jupyter.widget-state+json": {
        "5b5050303947414e9b3ee9331d1045fa": {
          "model_module": "@jupyter-widgets/controls",
          "model_name": "HBoxModel",
          "model_module_version": "1.5.0",
          "state": {
            "_dom_classes": [],
            "_model_module": "@jupyter-widgets/controls",
            "_model_module_version": "1.5.0",
            "_model_name": "HBoxModel",
            "_view_count": null,
            "_view_module": "@jupyter-widgets/controls",
            "_view_module_version": "1.5.0",
            "_view_name": "HBoxView",
            "box_style": "",
            "children": [
              "IPY_MODEL_919bd2fb788846cf934a74895f4728ae",
              "IPY_MODEL_c4be7bf191744830878027fe87fa4172",
              "IPY_MODEL_c24e17f350da42ac866a6aed6bcafbe3"
            ],
            "layout": "IPY_MODEL_df1107c8c3814c0594d1ea003364d065"
          }
        },
        "919bd2fb788846cf934a74895f4728ae": {
          "model_module": "@jupyter-widgets/controls",
          "model_name": "HTMLModel",
          "model_module_version": "1.5.0",
          "state": {
            "_dom_classes": [],
            "_model_module": "@jupyter-widgets/controls",
            "_model_module_version": "1.5.0",
            "_model_name": "HTMLModel",
            "_view_count": null,
            "_view_module": "@jupyter-widgets/controls",
            "_view_module_version": "1.5.0",
            "_view_name": "HTMLView",
            "description": "",
            "description_tooltip": null,
            "layout": "IPY_MODEL_6d8d454912d841358270d3aa904a09ba",
            "placeholder": "​",
            "style": "IPY_MODEL_b020f966d4af4774b0d1dee53ac26ff8",
            "value": "100%"
          }
        },
        "c4be7bf191744830878027fe87fa4172": {
          "model_module": "@jupyter-widgets/controls",
          "model_name": "FloatProgressModel",
          "model_module_version": "1.5.0",
          "state": {
            "_dom_classes": [],
            "_model_module": "@jupyter-widgets/controls",
            "_model_module_version": "1.5.0",
            "_model_name": "FloatProgressModel",
            "_view_count": null,
            "_view_module": "@jupyter-widgets/controls",
            "_view_module_version": "1.5.0",
            "_view_name": "ProgressView",
            "bar_style": "success",
            "description": "",
            "description_tooltip": null,
            "layout": "IPY_MODEL_5f0ea4533e664c31a441e194480195d9",
            "max": 9912422,
            "min": 0,
            "orientation": "horizontal",
            "style": "IPY_MODEL_274710f317e24c0d88b7f8514c63daf1",
            "value": 9912422
          }
        },
        "c24e17f350da42ac866a6aed6bcafbe3": {
          "model_module": "@jupyter-widgets/controls",
          "model_name": "HTMLModel",
          "model_module_version": "1.5.0",
          "state": {
            "_dom_classes": [],
            "_model_module": "@jupyter-widgets/controls",
            "_model_module_version": "1.5.0",
            "_model_name": "HTMLModel",
            "_view_count": null,
            "_view_module": "@jupyter-widgets/controls",
            "_view_module_version": "1.5.0",
            "_view_name": "HTMLView",
            "description": "",
            "description_tooltip": null,
            "layout": "IPY_MODEL_b1b6e7bcf95a4fcba308d4912ef8ae6b",
            "placeholder": "​",
            "style": "IPY_MODEL_c904c4552f794173840d48e56f1e7683",
            "value": " 9912422/9912422 [00:00&lt;00:00, 41878180.45it/s]"
          }
        },
        "df1107c8c3814c0594d1ea003364d065": {
          "model_module": "@jupyter-widgets/base",
          "model_name": "LayoutModel",
          "model_module_version": "1.2.0",
          "state": {
            "_model_module": "@jupyter-widgets/base",
            "_model_module_version": "1.2.0",
            "_model_name": "LayoutModel",
            "_view_count": null,
            "_view_module": "@jupyter-widgets/base",
            "_view_module_version": "1.2.0",
            "_view_name": "LayoutView",
            "align_content": null,
            "align_items": null,
            "align_self": null,
            "border": null,
            "bottom": null,
            "display": null,
            "flex": null,
            "flex_flow": null,
            "grid_area": null,
            "grid_auto_columns": null,
            "grid_auto_flow": null,
            "grid_auto_rows": null,
            "grid_column": null,
            "grid_gap": null,
            "grid_row": null,
            "grid_template_areas": null,
            "grid_template_columns": null,
            "grid_template_rows": null,
            "height": null,
            "justify_content": null,
            "justify_items": null,
            "left": null,
            "margin": null,
            "max_height": null,
            "max_width": null,
            "min_height": null,
            "min_width": null,
            "object_fit": null,
            "object_position": null,
            "order": null,
            "overflow": null,
            "overflow_x": null,
            "overflow_y": null,
            "padding": null,
            "right": null,
            "top": null,
            "visibility": null,
            "width": null
          }
        },
        "6d8d454912d841358270d3aa904a09ba": {
          "model_module": "@jupyter-widgets/base",
          "model_name": "LayoutModel",
          "model_module_version": "1.2.0",
          "state": {
            "_model_module": "@jupyter-widgets/base",
            "_model_module_version": "1.2.0",
            "_model_name": "LayoutModel",
            "_view_count": null,
            "_view_module": "@jupyter-widgets/base",
            "_view_module_version": "1.2.0",
            "_view_name": "LayoutView",
            "align_content": null,
            "align_items": null,
            "align_self": null,
            "border": null,
            "bottom": null,
            "display": null,
            "flex": null,
            "flex_flow": null,
            "grid_area": null,
            "grid_auto_columns": null,
            "grid_auto_flow": null,
            "grid_auto_rows": null,
            "grid_column": null,
            "grid_gap": null,
            "grid_row": null,
            "grid_template_areas": null,
            "grid_template_columns": null,
            "grid_template_rows": null,
            "height": null,
            "justify_content": null,
            "justify_items": null,
            "left": null,
            "margin": null,
            "max_height": null,
            "max_width": null,
            "min_height": null,
            "min_width": null,
            "object_fit": null,
            "object_position": null,
            "order": null,
            "overflow": null,
            "overflow_x": null,
            "overflow_y": null,
            "padding": null,
            "right": null,
            "top": null,
            "visibility": null,
            "width": null
          }
        },
        "b020f966d4af4774b0d1dee53ac26ff8": {
          "model_module": "@jupyter-widgets/controls",
          "model_name": "DescriptionStyleModel",
          "model_module_version": "1.5.0",
          "state": {
            "_model_module": "@jupyter-widgets/controls",
            "_model_module_version": "1.5.0",
            "_model_name": "DescriptionStyleModel",
            "_view_count": null,
            "_view_module": "@jupyter-widgets/base",
            "_view_module_version": "1.2.0",
            "_view_name": "StyleView",
            "description_width": ""
          }
        },
        "5f0ea4533e664c31a441e194480195d9": {
          "model_module": "@jupyter-widgets/base",
          "model_name": "LayoutModel",
          "model_module_version": "1.2.0",
          "state": {
            "_model_module": "@jupyter-widgets/base",
            "_model_module_version": "1.2.0",
            "_model_name": "LayoutModel",
            "_view_count": null,
            "_view_module": "@jupyter-widgets/base",
            "_view_module_version": "1.2.0",
            "_view_name": "LayoutView",
            "align_content": null,
            "align_items": null,
            "align_self": null,
            "border": null,
            "bottom": null,
            "display": null,
            "flex": null,
            "flex_flow": null,
            "grid_area": null,
            "grid_auto_columns": null,
            "grid_auto_flow": null,
            "grid_auto_rows": null,
            "grid_column": null,
            "grid_gap": null,
            "grid_row": null,
            "grid_template_areas": null,
            "grid_template_columns": null,
            "grid_template_rows": null,
            "height": null,
            "justify_content": null,
            "justify_items": null,
            "left": null,
            "margin": null,
            "max_height": null,
            "max_width": null,
            "min_height": null,
            "min_width": null,
            "object_fit": null,
            "object_position": null,
            "order": null,
            "overflow": null,
            "overflow_x": null,
            "overflow_y": null,
            "padding": null,
            "right": null,
            "top": null,
            "visibility": null,
            "width": null
          }
        },
        "274710f317e24c0d88b7f8514c63daf1": {
          "model_module": "@jupyter-widgets/controls",
          "model_name": "ProgressStyleModel",
          "model_module_version": "1.5.0",
          "state": {
            "_model_module": "@jupyter-widgets/controls",
            "_model_module_version": "1.5.0",
            "_model_name": "ProgressStyleModel",
            "_view_count": null,
            "_view_module": "@jupyter-widgets/base",
            "_view_module_version": "1.2.0",
            "_view_name": "StyleView",
            "bar_color": null,
            "description_width": ""
          }
        },
        "b1b6e7bcf95a4fcba308d4912ef8ae6b": {
          "model_module": "@jupyter-widgets/base",
          "model_name": "LayoutModel",
          "model_module_version": "1.2.0",
          "state": {
            "_model_module": "@jupyter-widgets/base",
            "_model_module_version": "1.2.0",
            "_model_name": "LayoutModel",
            "_view_count": null,
            "_view_module": "@jupyter-widgets/base",
            "_view_module_version": "1.2.0",
            "_view_name": "LayoutView",
            "align_content": null,
            "align_items": null,
            "align_self": null,
            "border": null,
            "bottom": null,
            "display": null,
            "flex": null,
            "flex_flow": null,
            "grid_area": null,
            "grid_auto_columns": null,
            "grid_auto_flow": null,
            "grid_auto_rows": null,
            "grid_column": null,
            "grid_gap": null,
            "grid_row": null,
            "grid_template_areas": null,
            "grid_template_columns": null,
            "grid_template_rows": null,
            "height": null,
            "justify_content": null,
            "justify_items": null,
            "left": null,
            "margin": null,
            "max_height": null,
            "max_width": null,
            "min_height": null,
            "min_width": null,
            "object_fit": null,
            "object_position": null,
            "order": null,
            "overflow": null,
            "overflow_x": null,
            "overflow_y": null,
            "padding": null,
            "right": null,
            "top": null,
            "visibility": null,
            "width": null
          }
        },
        "c904c4552f794173840d48e56f1e7683": {
          "model_module": "@jupyter-widgets/controls",
          "model_name": "DescriptionStyleModel",
          "model_module_version": "1.5.0",
          "state": {
            "_model_module": "@jupyter-widgets/controls",
            "_model_module_version": "1.5.0",
            "_model_name": "DescriptionStyleModel",
            "_view_count": null,
            "_view_module": "@jupyter-widgets/base",
            "_view_module_version": "1.2.0",
            "_view_name": "StyleView",
            "description_width": ""
          }
        },
        "35d557ea397d4b63a2f2a825e964e47d": {
          "model_module": "@jupyter-widgets/controls",
          "model_name": "HBoxModel",
          "model_module_version": "1.5.0",
          "state": {
            "_dom_classes": [],
            "_model_module": "@jupyter-widgets/controls",
            "_model_module_version": "1.5.0",
            "_model_name": "HBoxModel",
            "_view_count": null,
            "_view_module": "@jupyter-widgets/controls",
            "_view_module_version": "1.5.0",
            "_view_name": "HBoxView",
            "box_style": "",
            "children": [
              "IPY_MODEL_e85adbc1d74041d083db687a029e57d2",
              "IPY_MODEL_f5064d21b5584b5497672fbd60023b50",
              "IPY_MODEL_1e48314672ef4d2f991c95ee94ef5de6"
            ],
            "layout": "IPY_MODEL_a91aee68516a438f8fa2d99b100b3063"
          }
        },
        "e85adbc1d74041d083db687a029e57d2": {
          "model_module": "@jupyter-widgets/controls",
          "model_name": "HTMLModel",
          "model_module_version": "1.5.0",
          "state": {
            "_dom_classes": [],
            "_model_module": "@jupyter-widgets/controls",
            "_model_module_version": "1.5.0",
            "_model_name": "HTMLModel",
            "_view_count": null,
            "_view_module": "@jupyter-widgets/controls",
            "_view_module_version": "1.5.0",
            "_view_name": "HTMLView",
            "description": "",
            "description_tooltip": null,
            "layout": "IPY_MODEL_30b555ee6ed243ba887c5aa0adfb4317",
            "placeholder": "​",
            "style": "IPY_MODEL_657c21e4df9f48a9a596d5aba7ea50bf",
            "value": "100%"
          }
        },
        "f5064d21b5584b5497672fbd60023b50": {
          "model_module": "@jupyter-widgets/controls",
          "model_name": "FloatProgressModel",
          "model_module_version": "1.5.0",
          "state": {
            "_dom_classes": [],
            "_model_module": "@jupyter-widgets/controls",
            "_model_module_version": "1.5.0",
            "_model_name": "FloatProgressModel",
            "_view_count": null,
            "_view_module": "@jupyter-widgets/controls",
            "_view_module_version": "1.5.0",
            "_view_name": "ProgressView",
            "bar_style": "success",
            "description": "",
            "description_tooltip": null,
            "layout": "IPY_MODEL_41de7c58f2ae4d8b821a42e8f20dc8a1",
            "max": 28881,
            "min": 0,
            "orientation": "horizontal",
            "style": "IPY_MODEL_b34c3296440747a782f52f5e8c3b50c9",
            "value": 28881
          }
        },
        "1e48314672ef4d2f991c95ee94ef5de6": {
          "model_module": "@jupyter-widgets/controls",
          "model_name": "HTMLModel",
          "model_module_version": "1.5.0",
          "state": {
            "_dom_classes": [],
            "_model_module": "@jupyter-widgets/controls",
            "_model_module_version": "1.5.0",
            "_model_name": "HTMLModel",
            "_view_count": null,
            "_view_module": "@jupyter-widgets/controls",
            "_view_module_version": "1.5.0",
            "_view_name": "HTMLView",
            "description": "",
            "description_tooltip": null,
            "layout": "IPY_MODEL_fa57c33b520945b4bb7397cf87ab701e",
            "placeholder": "​",
            "style": "IPY_MODEL_06ae5aa0af844b27b3ece21edcbed700",
            "value": " 28881/28881 [00:00&lt;00:00, 830487.20it/s]"
          }
        },
        "a91aee68516a438f8fa2d99b100b3063": {
          "model_module": "@jupyter-widgets/base",
          "model_name": "LayoutModel",
          "model_module_version": "1.2.0",
          "state": {
            "_model_module": "@jupyter-widgets/base",
            "_model_module_version": "1.2.0",
            "_model_name": "LayoutModel",
            "_view_count": null,
            "_view_module": "@jupyter-widgets/base",
            "_view_module_version": "1.2.0",
            "_view_name": "LayoutView",
            "align_content": null,
            "align_items": null,
            "align_self": null,
            "border": null,
            "bottom": null,
            "display": null,
            "flex": null,
            "flex_flow": null,
            "grid_area": null,
            "grid_auto_columns": null,
            "grid_auto_flow": null,
            "grid_auto_rows": null,
            "grid_column": null,
            "grid_gap": null,
            "grid_row": null,
            "grid_template_areas": null,
            "grid_template_columns": null,
            "grid_template_rows": null,
            "height": null,
            "justify_content": null,
            "justify_items": null,
            "left": null,
            "margin": null,
            "max_height": null,
            "max_width": null,
            "min_height": null,
            "min_width": null,
            "object_fit": null,
            "object_position": null,
            "order": null,
            "overflow": null,
            "overflow_x": null,
            "overflow_y": null,
            "padding": null,
            "right": null,
            "top": null,
            "visibility": null,
            "width": null
          }
        },
        "30b555ee6ed243ba887c5aa0adfb4317": {
          "model_module": "@jupyter-widgets/base",
          "model_name": "LayoutModel",
          "model_module_version": "1.2.0",
          "state": {
            "_model_module": "@jupyter-widgets/base",
            "_model_module_version": "1.2.0",
            "_model_name": "LayoutModel",
            "_view_count": null,
            "_view_module": "@jupyter-widgets/base",
            "_view_module_version": "1.2.0",
            "_view_name": "LayoutView",
            "align_content": null,
            "align_items": null,
            "align_self": null,
            "border": null,
            "bottom": null,
            "display": null,
            "flex": null,
            "flex_flow": null,
            "grid_area": null,
            "grid_auto_columns": null,
            "grid_auto_flow": null,
            "grid_auto_rows": null,
            "grid_column": null,
            "grid_gap": null,
            "grid_row": null,
            "grid_template_areas": null,
            "grid_template_columns": null,
            "grid_template_rows": null,
            "height": null,
            "justify_content": null,
            "justify_items": null,
            "left": null,
            "margin": null,
            "max_height": null,
            "max_width": null,
            "min_height": null,
            "min_width": null,
            "object_fit": null,
            "object_position": null,
            "order": null,
            "overflow": null,
            "overflow_x": null,
            "overflow_y": null,
            "padding": null,
            "right": null,
            "top": null,
            "visibility": null,
            "width": null
          }
        },
        "657c21e4df9f48a9a596d5aba7ea50bf": {
          "model_module": "@jupyter-widgets/controls",
          "model_name": "DescriptionStyleModel",
          "model_module_version": "1.5.0",
          "state": {
            "_model_module": "@jupyter-widgets/controls",
            "_model_module_version": "1.5.0",
            "_model_name": "DescriptionStyleModel",
            "_view_count": null,
            "_view_module": "@jupyter-widgets/base",
            "_view_module_version": "1.2.0",
            "_view_name": "StyleView",
            "description_width": ""
          }
        },
        "41de7c58f2ae4d8b821a42e8f20dc8a1": {
          "model_module": "@jupyter-widgets/base",
          "model_name": "LayoutModel",
          "model_module_version": "1.2.0",
          "state": {
            "_model_module": "@jupyter-widgets/base",
            "_model_module_version": "1.2.0",
            "_model_name": "LayoutModel",
            "_view_count": null,
            "_view_module": "@jupyter-widgets/base",
            "_view_module_version": "1.2.0",
            "_view_name": "LayoutView",
            "align_content": null,
            "align_items": null,
            "align_self": null,
            "border": null,
            "bottom": null,
            "display": null,
            "flex": null,
            "flex_flow": null,
            "grid_area": null,
            "grid_auto_columns": null,
            "grid_auto_flow": null,
            "grid_auto_rows": null,
            "grid_column": null,
            "grid_gap": null,
            "grid_row": null,
            "grid_template_areas": null,
            "grid_template_columns": null,
            "grid_template_rows": null,
            "height": null,
            "justify_content": null,
            "justify_items": null,
            "left": null,
            "margin": null,
            "max_height": null,
            "max_width": null,
            "min_height": null,
            "min_width": null,
            "object_fit": null,
            "object_position": null,
            "order": null,
            "overflow": null,
            "overflow_x": null,
            "overflow_y": null,
            "padding": null,
            "right": null,
            "top": null,
            "visibility": null,
            "width": null
          }
        },
        "b34c3296440747a782f52f5e8c3b50c9": {
          "model_module": "@jupyter-widgets/controls",
          "model_name": "ProgressStyleModel",
          "model_module_version": "1.5.0",
          "state": {
            "_model_module": "@jupyter-widgets/controls",
            "_model_module_version": "1.5.0",
            "_model_name": "ProgressStyleModel",
            "_view_count": null,
            "_view_module": "@jupyter-widgets/base",
            "_view_module_version": "1.2.0",
            "_view_name": "StyleView",
            "bar_color": null,
            "description_width": ""
          }
        },
        "fa57c33b520945b4bb7397cf87ab701e": {
          "model_module": "@jupyter-widgets/base",
          "model_name": "LayoutModel",
          "model_module_version": "1.2.0",
          "state": {
            "_model_module": "@jupyter-widgets/base",
            "_model_module_version": "1.2.0",
            "_model_name": "LayoutModel",
            "_view_count": null,
            "_view_module": "@jupyter-widgets/base",
            "_view_module_version": "1.2.0",
            "_view_name": "LayoutView",
            "align_content": null,
            "align_items": null,
            "align_self": null,
            "border": null,
            "bottom": null,
            "display": null,
            "flex": null,
            "flex_flow": null,
            "grid_area": null,
            "grid_auto_columns": null,
            "grid_auto_flow": null,
            "grid_auto_rows": null,
            "grid_column": null,
            "grid_gap": null,
            "grid_row": null,
            "grid_template_areas": null,
            "grid_template_columns": null,
            "grid_template_rows": null,
            "height": null,
            "justify_content": null,
            "justify_items": null,
            "left": null,
            "margin": null,
            "max_height": null,
            "max_width": null,
            "min_height": null,
            "min_width": null,
            "object_fit": null,
            "object_position": null,
            "order": null,
            "overflow": null,
            "overflow_x": null,
            "overflow_y": null,
            "padding": null,
            "right": null,
            "top": null,
            "visibility": null,
            "width": null
          }
        },
        "06ae5aa0af844b27b3ece21edcbed700": {
          "model_module": "@jupyter-widgets/controls",
          "model_name": "DescriptionStyleModel",
          "model_module_version": "1.5.0",
          "state": {
            "_model_module": "@jupyter-widgets/controls",
            "_model_module_version": "1.5.0",
            "_model_name": "DescriptionStyleModel",
            "_view_count": null,
            "_view_module": "@jupyter-widgets/base",
            "_view_module_version": "1.2.0",
            "_view_name": "StyleView",
            "description_width": ""
          }
        },
        "4bd2e26ad982431ab0f3d3d4cd8348a3": {
          "model_module": "@jupyter-widgets/controls",
          "model_name": "HBoxModel",
          "model_module_version": "1.5.0",
          "state": {
            "_dom_classes": [],
            "_model_module": "@jupyter-widgets/controls",
            "_model_module_version": "1.5.0",
            "_model_name": "HBoxModel",
            "_view_count": null,
            "_view_module": "@jupyter-widgets/controls",
            "_view_module_version": "1.5.0",
            "_view_name": "HBoxView",
            "box_style": "",
            "children": [
              "IPY_MODEL_e994a06062fc4a38b964319892c297a5",
              "IPY_MODEL_35db39f86fdc48f2a6ed1cbce41b8bce",
              "IPY_MODEL_5e75d1c332f24cd18608fad15789c5cc"
            ],
            "layout": "IPY_MODEL_b9224221ecea44898b75f242d26d18ec"
          }
        },
        "e994a06062fc4a38b964319892c297a5": {
          "model_module": "@jupyter-widgets/controls",
          "model_name": "HTMLModel",
          "model_module_version": "1.5.0",
          "state": {
            "_dom_classes": [],
            "_model_module": "@jupyter-widgets/controls",
            "_model_module_version": "1.5.0",
            "_model_name": "HTMLModel",
            "_view_count": null,
            "_view_module": "@jupyter-widgets/controls",
            "_view_module_version": "1.5.0",
            "_view_name": "HTMLView",
            "description": "",
            "description_tooltip": null,
            "layout": "IPY_MODEL_8a8ba247a02e4f94b4bfb3976207e422",
            "placeholder": "​",
            "style": "IPY_MODEL_b29b0838d27b4cb5922cc419c0ccdf24",
            "value": "100%"
          }
        },
        "35db39f86fdc48f2a6ed1cbce41b8bce": {
          "model_module": "@jupyter-widgets/controls",
          "model_name": "FloatProgressModel",
          "model_module_version": "1.5.0",
          "state": {
            "_dom_classes": [],
            "_model_module": "@jupyter-widgets/controls",
            "_model_module_version": "1.5.0",
            "_model_name": "FloatProgressModel",
            "_view_count": null,
            "_view_module": "@jupyter-widgets/controls",
            "_view_module_version": "1.5.0",
            "_view_name": "ProgressView",
            "bar_style": "success",
            "description": "",
            "description_tooltip": null,
            "layout": "IPY_MODEL_ecfe27579d1b4c4ab02a0f8be26685e2",
            "max": 1648877,
            "min": 0,
            "orientation": "horizontal",
            "style": "IPY_MODEL_30fc2af8813240b3bb17e693c255be10",
            "value": 1648877
          }
        },
        "5e75d1c332f24cd18608fad15789c5cc": {
          "model_module": "@jupyter-widgets/controls",
          "model_name": "HTMLModel",
          "model_module_version": "1.5.0",
          "state": {
            "_dom_classes": [],
            "_model_module": "@jupyter-widgets/controls",
            "_model_module_version": "1.5.0",
            "_model_name": "HTMLModel",
            "_view_count": null,
            "_view_module": "@jupyter-widgets/controls",
            "_view_module_version": "1.5.0",
            "_view_name": "HTMLView",
            "description": "",
            "description_tooltip": null,
            "layout": "IPY_MODEL_556070c1152a4068ad4b455efd951733",
            "placeholder": "​",
            "style": "IPY_MODEL_3e05add594fe4b58aa07ce51e789550a",
            "value": " 1648877/1648877 [00:00&lt;00:00, 17650504.81it/s]"
          }
        },
        "b9224221ecea44898b75f242d26d18ec": {
          "model_module": "@jupyter-widgets/base",
          "model_name": "LayoutModel",
          "model_module_version": "1.2.0",
          "state": {
            "_model_module": "@jupyter-widgets/base",
            "_model_module_version": "1.2.0",
            "_model_name": "LayoutModel",
            "_view_count": null,
            "_view_module": "@jupyter-widgets/base",
            "_view_module_version": "1.2.0",
            "_view_name": "LayoutView",
            "align_content": null,
            "align_items": null,
            "align_self": null,
            "border": null,
            "bottom": null,
            "display": null,
            "flex": null,
            "flex_flow": null,
            "grid_area": null,
            "grid_auto_columns": null,
            "grid_auto_flow": null,
            "grid_auto_rows": null,
            "grid_column": null,
            "grid_gap": null,
            "grid_row": null,
            "grid_template_areas": null,
            "grid_template_columns": null,
            "grid_template_rows": null,
            "height": null,
            "justify_content": null,
            "justify_items": null,
            "left": null,
            "margin": null,
            "max_height": null,
            "max_width": null,
            "min_height": null,
            "min_width": null,
            "object_fit": null,
            "object_position": null,
            "order": null,
            "overflow": null,
            "overflow_x": null,
            "overflow_y": null,
            "padding": null,
            "right": null,
            "top": null,
            "visibility": null,
            "width": null
          }
        },
        "8a8ba247a02e4f94b4bfb3976207e422": {
          "model_module": "@jupyter-widgets/base",
          "model_name": "LayoutModel",
          "model_module_version": "1.2.0",
          "state": {
            "_model_module": "@jupyter-widgets/base",
            "_model_module_version": "1.2.0",
            "_model_name": "LayoutModel",
            "_view_count": null,
            "_view_module": "@jupyter-widgets/base",
            "_view_module_version": "1.2.0",
            "_view_name": "LayoutView",
            "align_content": null,
            "align_items": null,
            "align_self": null,
            "border": null,
            "bottom": null,
            "display": null,
            "flex": null,
            "flex_flow": null,
            "grid_area": null,
            "grid_auto_columns": null,
            "grid_auto_flow": null,
            "grid_auto_rows": null,
            "grid_column": null,
            "grid_gap": null,
            "grid_row": null,
            "grid_template_areas": null,
            "grid_template_columns": null,
            "grid_template_rows": null,
            "height": null,
            "justify_content": null,
            "justify_items": null,
            "left": null,
            "margin": null,
            "max_height": null,
            "max_width": null,
            "min_height": null,
            "min_width": null,
            "object_fit": null,
            "object_position": null,
            "order": null,
            "overflow": null,
            "overflow_x": null,
            "overflow_y": null,
            "padding": null,
            "right": null,
            "top": null,
            "visibility": null,
            "width": null
          }
        },
        "b29b0838d27b4cb5922cc419c0ccdf24": {
          "model_module": "@jupyter-widgets/controls",
          "model_name": "DescriptionStyleModel",
          "model_module_version": "1.5.0",
          "state": {
            "_model_module": "@jupyter-widgets/controls",
            "_model_module_version": "1.5.0",
            "_model_name": "DescriptionStyleModel",
            "_view_count": null,
            "_view_module": "@jupyter-widgets/base",
            "_view_module_version": "1.2.0",
            "_view_name": "StyleView",
            "description_width": ""
          }
        },
        "ecfe27579d1b4c4ab02a0f8be26685e2": {
          "model_module": "@jupyter-widgets/base",
          "model_name": "LayoutModel",
          "model_module_version": "1.2.0",
          "state": {
            "_model_module": "@jupyter-widgets/base",
            "_model_module_version": "1.2.0",
            "_model_name": "LayoutModel",
            "_view_count": null,
            "_view_module": "@jupyter-widgets/base",
            "_view_module_version": "1.2.0",
            "_view_name": "LayoutView",
            "align_content": null,
            "align_items": null,
            "align_self": null,
            "border": null,
            "bottom": null,
            "display": null,
            "flex": null,
            "flex_flow": null,
            "grid_area": null,
            "grid_auto_columns": null,
            "grid_auto_flow": null,
            "grid_auto_rows": null,
            "grid_column": null,
            "grid_gap": null,
            "grid_row": null,
            "grid_template_areas": null,
            "grid_template_columns": null,
            "grid_template_rows": null,
            "height": null,
            "justify_content": null,
            "justify_items": null,
            "left": null,
            "margin": null,
            "max_height": null,
            "max_width": null,
            "min_height": null,
            "min_width": null,
            "object_fit": null,
            "object_position": null,
            "order": null,
            "overflow": null,
            "overflow_x": null,
            "overflow_y": null,
            "padding": null,
            "right": null,
            "top": null,
            "visibility": null,
            "width": null
          }
        },
        "30fc2af8813240b3bb17e693c255be10": {
          "model_module": "@jupyter-widgets/controls",
          "model_name": "ProgressStyleModel",
          "model_module_version": "1.5.0",
          "state": {
            "_model_module": "@jupyter-widgets/controls",
            "_model_module_version": "1.5.0",
            "_model_name": "ProgressStyleModel",
            "_view_count": null,
            "_view_module": "@jupyter-widgets/base",
            "_view_module_version": "1.2.0",
            "_view_name": "StyleView",
            "bar_color": null,
            "description_width": ""
          }
        },
        "556070c1152a4068ad4b455efd951733": {
          "model_module": "@jupyter-widgets/base",
          "model_name": "LayoutModel",
          "model_module_version": "1.2.0",
          "state": {
            "_model_module": "@jupyter-widgets/base",
            "_model_module_version": "1.2.0",
            "_model_name": "LayoutModel",
            "_view_count": null,
            "_view_module": "@jupyter-widgets/base",
            "_view_module_version": "1.2.0",
            "_view_name": "LayoutView",
            "align_content": null,
            "align_items": null,
            "align_self": null,
            "border": null,
            "bottom": null,
            "display": null,
            "flex": null,
            "flex_flow": null,
            "grid_area": null,
            "grid_auto_columns": null,
            "grid_auto_flow": null,
            "grid_auto_rows": null,
            "grid_column": null,
            "grid_gap": null,
            "grid_row": null,
            "grid_template_areas": null,
            "grid_template_columns": null,
            "grid_template_rows": null,
            "height": null,
            "justify_content": null,
            "justify_items": null,
            "left": null,
            "margin": null,
            "max_height": null,
            "max_width": null,
            "min_height": null,
            "min_width": null,
            "object_fit": null,
            "object_position": null,
            "order": null,
            "overflow": null,
            "overflow_x": null,
            "overflow_y": null,
            "padding": null,
            "right": null,
            "top": null,
            "visibility": null,
            "width": null
          }
        },
        "3e05add594fe4b58aa07ce51e789550a": {
          "model_module": "@jupyter-widgets/controls",
          "model_name": "DescriptionStyleModel",
          "model_module_version": "1.5.0",
          "state": {
            "_model_module": "@jupyter-widgets/controls",
            "_model_module_version": "1.5.0",
            "_model_name": "DescriptionStyleModel",
            "_view_count": null,
            "_view_module": "@jupyter-widgets/base",
            "_view_module_version": "1.2.0",
            "_view_name": "StyleView",
            "description_width": ""
          }
        },
        "233851f96f77479b872a2de90dc4c5a4": {
          "model_module": "@jupyter-widgets/controls",
          "model_name": "HBoxModel",
          "model_module_version": "1.5.0",
          "state": {
            "_dom_classes": [],
            "_model_module": "@jupyter-widgets/controls",
            "_model_module_version": "1.5.0",
            "_model_name": "HBoxModel",
            "_view_count": null,
            "_view_module": "@jupyter-widgets/controls",
            "_view_module_version": "1.5.0",
            "_view_name": "HBoxView",
            "box_style": "",
            "children": [
              "IPY_MODEL_84cdbf548ed44e1c8695878bc8d0fa9b",
              "IPY_MODEL_b2bde4c41d3540a9ad1bf18cb9f6d1c0",
              "IPY_MODEL_77b76a2919e84e81ada1a173ea27f859"
            ],
            "layout": "IPY_MODEL_4d3c0fdac19a47bc99eafaa26fec359b"
          }
        },
        "84cdbf548ed44e1c8695878bc8d0fa9b": {
          "model_module": "@jupyter-widgets/controls",
          "model_name": "HTMLModel",
          "model_module_version": "1.5.0",
          "state": {
            "_dom_classes": [],
            "_model_module": "@jupyter-widgets/controls",
            "_model_module_version": "1.5.0",
            "_model_name": "HTMLModel",
            "_view_count": null,
            "_view_module": "@jupyter-widgets/controls",
            "_view_module_version": "1.5.0",
            "_view_name": "HTMLView",
            "description": "",
            "description_tooltip": null,
            "layout": "IPY_MODEL_b02aa9a213f54eaf8848f0eeca27775d",
            "placeholder": "​",
            "style": "IPY_MODEL_9234ca0172f54109bb13b7af0365d224",
            "value": "100%"
          }
        },
        "b2bde4c41d3540a9ad1bf18cb9f6d1c0": {
          "model_module": "@jupyter-widgets/controls",
          "model_name": "FloatProgressModel",
          "model_module_version": "1.5.0",
          "state": {
            "_dom_classes": [],
            "_model_module": "@jupyter-widgets/controls",
            "_model_module_version": "1.5.0",
            "_model_name": "FloatProgressModel",
            "_view_count": null,
            "_view_module": "@jupyter-widgets/controls",
            "_view_module_version": "1.5.0",
            "_view_name": "ProgressView",
            "bar_style": "success",
            "description": "",
            "description_tooltip": null,
            "layout": "IPY_MODEL_8cdbb9164c7f40f384b3a60dc8f6d5fe",
            "max": 4542,
            "min": 0,
            "orientation": "horizontal",
            "style": "IPY_MODEL_c0baa75b5a3244ef89c63215a4f984d9",
            "value": 4542
          }
        },
        "77b76a2919e84e81ada1a173ea27f859": {
          "model_module": "@jupyter-widgets/controls",
          "model_name": "HTMLModel",
          "model_module_version": "1.5.0",
          "state": {
            "_dom_classes": [],
            "_model_module": "@jupyter-widgets/controls",
            "_model_module_version": "1.5.0",
            "_model_name": "HTMLModel",
            "_view_count": null,
            "_view_module": "@jupyter-widgets/controls",
            "_view_module_version": "1.5.0",
            "_view_name": "HTMLView",
            "description": "",
            "description_tooltip": null,
            "layout": "IPY_MODEL_fb2ff7ff15e4468ba4c203c8b5b6cf10",
            "placeholder": "​",
            "style": "IPY_MODEL_d9a8d7d06a9f4da291e94d41e7423d32",
            "value": " 4542/4542 [00:00&lt;00:00, 108919.29it/s]"
          }
        },
        "4d3c0fdac19a47bc99eafaa26fec359b": {
          "model_module": "@jupyter-widgets/base",
          "model_name": "LayoutModel",
          "model_module_version": "1.2.0",
          "state": {
            "_model_module": "@jupyter-widgets/base",
            "_model_module_version": "1.2.0",
            "_model_name": "LayoutModel",
            "_view_count": null,
            "_view_module": "@jupyter-widgets/base",
            "_view_module_version": "1.2.0",
            "_view_name": "LayoutView",
            "align_content": null,
            "align_items": null,
            "align_self": null,
            "border": null,
            "bottom": null,
            "display": null,
            "flex": null,
            "flex_flow": null,
            "grid_area": null,
            "grid_auto_columns": null,
            "grid_auto_flow": null,
            "grid_auto_rows": null,
            "grid_column": null,
            "grid_gap": null,
            "grid_row": null,
            "grid_template_areas": null,
            "grid_template_columns": null,
            "grid_template_rows": null,
            "height": null,
            "justify_content": null,
            "justify_items": null,
            "left": null,
            "margin": null,
            "max_height": null,
            "max_width": null,
            "min_height": null,
            "min_width": null,
            "object_fit": null,
            "object_position": null,
            "order": null,
            "overflow": null,
            "overflow_x": null,
            "overflow_y": null,
            "padding": null,
            "right": null,
            "top": null,
            "visibility": null,
            "width": null
          }
        },
        "b02aa9a213f54eaf8848f0eeca27775d": {
          "model_module": "@jupyter-widgets/base",
          "model_name": "LayoutModel",
          "model_module_version": "1.2.0",
          "state": {
            "_model_module": "@jupyter-widgets/base",
            "_model_module_version": "1.2.0",
            "_model_name": "LayoutModel",
            "_view_count": null,
            "_view_module": "@jupyter-widgets/base",
            "_view_module_version": "1.2.0",
            "_view_name": "LayoutView",
            "align_content": null,
            "align_items": null,
            "align_self": null,
            "border": null,
            "bottom": null,
            "display": null,
            "flex": null,
            "flex_flow": null,
            "grid_area": null,
            "grid_auto_columns": null,
            "grid_auto_flow": null,
            "grid_auto_rows": null,
            "grid_column": null,
            "grid_gap": null,
            "grid_row": null,
            "grid_template_areas": null,
            "grid_template_columns": null,
            "grid_template_rows": null,
            "height": null,
            "justify_content": null,
            "justify_items": null,
            "left": null,
            "margin": null,
            "max_height": null,
            "max_width": null,
            "min_height": null,
            "min_width": null,
            "object_fit": null,
            "object_position": null,
            "order": null,
            "overflow": null,
            "overflow_x": null,
            "overflow_y": null,
            "padding": null,
            "right": null,
            "top": null,
            "visibility": null,
            "width": null
          }
        },
        "9234ca0172f54109bb13b7af0365d224": {
          "model_module": "@jupyter-widgets/controls",
          "model_name": "DescriptionStyleModel",
          "model_module_version": "1.5.0",
          "state": {
            "_model_module": "@jupyter-widgets/controls",
            "_model_module_version": "1.5.0",
            "_model_name": "DescriptionStyleModel",
            "_view_count": null,
            "_view_module": "@jupyter-widgets/base",
            "_view_module_version": "1.2.0",
            "_view_name": "StyleView",
            "description_width": ""
          }
        },
        "8cdbb9164c7f40f384b3a60dc8f6d5fe": {
          "model_module": "@jupyter-widgets/base",
          "model_name": "LayoutModel",
          "model_module_version": "1.2.0",
          "state": {
            "_model_module": "@jupyter-widgets/base",
            "_model_module_version": "1.2.0",
            "_model_name": "LayoutModel",
            "_view_count": null,
            "_view_module": "@jupyter-widgets/base",
            "_view_module_version": "1.2.0",
            "_view_name": "LayoutView",
            "align_content": null,
            "align_items": null,
            "align_self": null,
            "border": null,
            "bottom": null,
            "display": null,
            "flex": null,
            "flex_flow": null,
            "grid_area": null,
            "grid_auto_columns": null,
            "grid_auto_flow": null,
            "grid_auto_rows": null,
            "grid_column": null,
            "grid_gap": null,
            "grid_row": null,
            "grid_template_areas": null,
            "grid_template_columns": null,
            "grid_template_rows": null,
            "height": null,
            "justify_content": null,
            "justify_items": null,
            "left": null,
            "margin": null,
            "max_height": null,
            "max_width": null,
            "min_height": null,
            "min_width": null,
            "object_fit": null,
            "object_position": null,
            "order": null,
            "overflow": null,
            "overflow_x": null,
            "overflow_y": null,
            "padding": null,
            "right": null,
            "top": null,
            "visibility": null,
            "width": null
          }
        },
        "c0baa75b5a3244ef89c63215a4f984d9": {
          "model_module": "@jupyter-widgets/controls",
          "model_name": "ProgressStyleModel",
          "model_module_version": "1.5.0",
          "state": {
            "_model_module": "@jupyter-widgets/controls",
            "_model_module_version": "1.5.0",
            "_model_name": "ProgressStyleModel",
            "_view_count": null,
            "_view_module": "@jupyter-widgets/base",
            "_view_module_version": "1.2.0",
            "_view_name": "StyleView",
            "bar_color": null,
            "description_width": ""
          }
        },
        "fb2ff7ff15e4468ba4c203c8b5b6cf10": {
          "model_module": "@jupyter-widgets/base",
          "model_name": "LayoutModel",
          "model_module_version": "1.2.0",
          "state": {
            "_model_module": "@jupyter-widgets/base",
            "_model_module_version": "1.2.0",
            "_model_name": "LayoutModel",
            "_view_count": null,
            "_view_module": "@jupyter-widgets/base",
            "_view_module_version": "1.2.0",
            "_view_name": "LayoutView",
            "align_content": null,
            "align_items": null,
            "align_self": null,
            "border": null,
            "bottom": null,
            "display": null,
            "flex": null,
            "flex_flow": null,
            "grid_area": null,
            "grid_auto_columns": null,
            "grid_auto_flow": null,
            "grid_auto_rows": null,
            "grid_column": null,
            "grid_gap": null,
            "grid_row": null,
            "grid_template_areas": null,
            "grid_template_columns": null,
            "grid_template_rows": null,
            "height": null,
            "justify_content": null,
            "justify_items": null,
            "left": null,
            "margin": null,
            "max_height": null,
            "max_width": null,
            "min_height": null,
            "min_width": null,
            "object_fit": null,
            "object_position": null,
            "order": null,
            "overflow": null,
            "overflow_x": null,
            "overflow_y": null,
            "padding": null,
            "right": null,
            "top": null,
            "visibility": null,
            "width": null
          }
        },
        "d9a8d7d06a9f4da291e94d41e7423d32": {
          "model_module": "@jupyter-widgets/controls",
          "model_name": "DescriptionStyleModel",
          "model_module_version": "1.5.0",
          "state": {
            "_model_module": "@jupyter-widgets/controls",
            "_model_module_version": "1.5.0",
            "_model_name": "DescriptionStyleModel",
            "_view_count": null,
            "_view_module": "@jupyter-widgets/base",
            "_view_module_version": "1.2.0",
            "_view_name": "StyleView",
            "description_width": ""
          }
        }
      }
    }
  },
  "cells": [
    {
      "cell_type": "markdown",
      "metadata": {
        "id": "view-in-github",
        "colab_type": "text"
      },
      "source": [
        "<a href=\"https://colab.research.google.com/github/ADiti16Sengar/DeepLearning-CHE/blob/main/logisticRegression.ipynb\" target=\"_parent\"><img src=\"https://colab.research.google.com/assets/colab-badge.svg\" alt=\"Open In Colab\"/></a>"
      ]
    },
    {
      "cell_type": "code",
      "execution_count": 1,
      "metadata": {
        "id": "N9YReGglULnW"
      },
      "outputs": [],
      "source": [
        "import torch\n",
        "import torch.nn as nn\n",
        "import torchvision.transforms as transforms\n",
        "import torchvision.datasets as dsets"
      ]
    },
    {
      "cell_type": "code",
      "source": [
        "train_dataset = dsets.MNIST(root='./data', \n",
        "                            train=True, \n",
        "                            transform=transforms.ToTensor(),\n",
        "                            download=True)"
      ],
      "metadata": {
        "colab": {
          "base_uri": "https://localhost:8080/",
          "height": 423,
          "referenced_widgets": [
            "5b5050303947414e9b3ee9331d1045fa",
            "919bd2fb788846cf934a74895f4728ae",
            "c4be7bf191744830878027fe87fa4172",
            "c24e17f350da42ac866a6aed6bcafbe3",
            "df1107c8c3814c0594d1ea003364d065",
            "6d8d454912d841358270d3aa904a09ba",
            "b020f966d4af4774b0d1dee53ac26ff8",
            "5f0ea4533e664c31a441e194480195d9",
            "274710f317e24c0d88b7f8514c63daf1",
            "b1b6e7bcf95a4fcba308d4912ef8ae6b",
            "c904c4552f794173840d48e56f1e7683",
            "35d557ea397d4b63a2f2a825e964e47d",
            "e85adbc1d74041d083db687a029e57d2",
            "f5064d21b5584b5497672fbd60023b50",
            "1e48314672ef4d2f991c95ee94ef5de6",
            "a91aee68516a438f8fa2d99b100b3063",
            "30b555ee6ed243ba887c5aa0adfb4317",
            "657c21e4df9f48a9a596d5aba7ea50bf",
            "41de7c58f2ae4d8b821a42e8f20dc8a1",
            "b34c3296440747a782f52f5e8c3b50c9",
            "fa57c33b520945b4bb7397cf87ab701e",
            "06ae5aa0af844b27b3ece21edcbed700",
            "4bd2e26ad982431ab0f3d3d4cd8348a3",
            "e994a06062fc4a38b964319892c297a5",
            "35db39f86fdc48f2a6ed1cbce41b8bce",
            "5e75d1c332f24cd18608fad15789c5cc",
            "b9224221ecea44898b75f242d26d18ec",
            "8a8ba247a02e4f94b4bfb3976207e422",
            "b29b0838d27b4cb5922cc419c0ccdf24",
            "ecfe27579d1b4c4ab02a0f8be26685e2",
            "30fc2af8813240b3bb17e693c255be10",
            "556070c1152a4068ad4b455efd951733",
            "3e05add594fe4b58aa07ce51e789550a",
            "233851f96f77479b872a2de90dc4c5a4",
            "84cdbf548ed44e1c8695878bc8d0fa9b",
            "b2bde4c41d3540a9ad1bf18cb9f6d1c0",
            "77b76a2919e84e81ada1a173ea27f859",
            "4d3c0fdac19a47bc99eafaa26fec359b",
            "b02aa9a213f54eaf8848f0eeca27775d",
            "9234ca0172f54109bb13b7af0365d224",
            "8cdbb9164c7f40f384b3a60dc8f6d5fe",
            "c0baa75b5a3244ef89c63215a4f984d9",
            "fb2ff7ff15e4468ba4c203c8b5b6cf10",
            "d9a8d7d06a9f4da291e94d41e7423d32"
          ]
        },
        "id": "psBQaLwUU2hL",
        "outputId": "95bdf275-ed63-4a21-b5e8-c6ba06952e5d"
      },
      "execution_count": 2,
      "outputs": [
        {
          "output_type": "stream",
          "name": "stdout",
          "text": [
            "Downloading http://yann.lecun.com/exdb/mnist/train-images-idx3-ubyte.gz\n",
            "Downloading http://yann.lecun.com/exdb/mnist/train-images-idx3-ubyte.gz to ./data/MNIST/raw/train-images-idx3-ubyte.gz\n"
          ]
        },
        {
          "output_type": "display_data",
          "data": {
            "text/plain": [
              "  0%|          | 0/9912422 [00:00<?, ?it/s]"
            ],
            "application/vnd.jupyter.widget-view+json": {
              "version_major": 2,
              "version_minor": 0,
              "model_id": "5b5050303947414e9b3ee9331d1045fa"
            }
          },
          "metadata": {}
        },
        {
          "output_type": "stream",
          "name": "stdout",
          "text": [
            "Extracting ./data/MNIST/raw/train-images-idx3-ubyte.gz to ./data/MNIST/raw\n",
            "\n",
            "Downloading http://yann.lecun.com/exdb/mnist/train-labels-idx1-ubyte.gz\n",
            "Downloading http://yann.lecun.com/exdb/mnist/train-labels-idx1-ubyte.gz to ./data/MNIST/raw/train-labels-idx1-ubyte.gz\n"
          ]
        },
        {
          "output_type": "display_data",
          "data": {
            "text/plain": [
              "  0%|          | 0/28881 [00:00<?, ?it/s]"
            ],
            "application/vnd.jupyter.widget-view+json": {
              "version_major": 2,
              "version_minor": 0,
              "model_id": "35d557ea397d4b63a2f2a825e964e47d"
            }
          },
          "metadata": {}
        },
        {
          "output_type": "stream",
          "name": "stdout",
          "text": [
            "Extracting ./data/MNIST/raw/train-labels-idx1-ubyte.gz to ./data/MNIST/raw\n",
            "\n",
            "Downloading http://yann.lecun.com/exdb/mnist/t10k-images-idx3-ubyte.gz\n",
            "Downloading http://yann.lecun.com/exdb/mnist/t10k-images-idx3-ubyte.gz to ./data/MNIST/raw/t10k-images-idx3-ubyte.gz\n"
          ]
        },
        {
          "output_type": "display_data",
          "data": {
            "text/plain": [
              "  0%|          | 0/1648877 [00:00<?, ?it/s]"
            ],
            "application/vnd.jupyter.widget-view+json": {
              "version_major": 2,
              "version_minor": 0,
              "model_id": "4bd2e26ad982431ab0f3d3d4cd8348a3"
            }
          },
          "metadata": {}
        },
        {
          "output_type": "stream",
          "name": "stdout",
          "text": [
            "Extracting ./data/MNIST/raw/t10k-images-idx3-ubyte.gz to ./data/MNIST/raw\n",
            "\n",
            "Downloading http://yann.lecun.com/exdb/mnist/t10k-labels-idx1-ubyte.gz\n",
            "Downloading http://yann.lecun.com/exdb/mnist/t10k-labels-idx1-ubyte.gz to ./data/MNIST/raw/t10k-labels-idx1-ubyte.gz\n"
          ]
        },
        {
          "output_type": "display_data",
          "data": {
            "text/plain": [
              "  0%|          | 0/4542 [00:00<?, ?it/s]"
            ],
            "application/vnd.jupyter.widget-view+json": {
              "version_major": 2,
              "version_minor": 0,
              "model_id": "233851f96f77479b872a2de90dc4c5a4"
            }
          },
          "metadata": {}
        },
        {
          "output_type": "stream",
          "name": "stdout",
          "text": [
            "Extracting ./data/MNIST/raw/t10k-labels-idx1-ubyte.gz to ./data/MNIST/raw\n",
            "\n"
          ]
        }
      ]
    },
    {
      "cell_type": "code",
      "source": [
        "len(train_dataset)"
      ],
      "metadata": {
        "colab": {
          "base_uri": "https://localhost:8080/"
        },
        "id": "xl6kvEkuU7F5",
        "outputId": "704bf54a-752f-451d-81d2-59a9c1f38c9c"
      },
      "execution_count": 3,
      "outputs": [
        {
          "output_type": "execute_result",
          "data": {
            "text/plain": [
              "60000"
            ]
          },
          "metadata": {},
          "execution_count": 3
        }
      ]
    },
    {
      "cell_type": "code",
      "source": [
        "test_dataset = dsets.MNIST(root='./data', \n",
        "                           train=False, \n",
        "                           transform=transforms.ToTensor())\n",
        "\n",
        "len(test_dataset)"
      ],
      "metadata": {
        "colab": {
          "base_uri": "https://localhost:8080/"
        },
        "id": "UFb-oWURVMH_",
        "outputId": "065683f0-9f1e-4bfb-a94a-4e3fc259922b"
      },
      "execution_count": 5,
      "outputs": [
        {
          "output_type": "execute_result",
          "data": {
            "text/plain": [
              "10000"
            ]
          },
          "metadata": {},
          "execution_count": 5
        }
      ]
    },
    {
      "cell_type": "code",
      "source": [
        "batch_size = 100"
      ],
      "metadata": {
        "id": "FpI7N2g-Vrm0"
      },
      "execution_count": 6,
      "outputs": []
    },
    {
      "cell_type": "code",
      "source": [
        "n_iters = 3000"
      ],
      "metadata": {
        "id": "Ct5eU0CzWB2K"
      },
      "execution_count": 7,
      "outputs": []
    },
    {
      "cell_type": "code",
      "source": [
        "num_epochs = n_iters / (len(train_dataset) / batch_size)\n",
        "num_epochs = int(num_epochs)\n",
        "num_epochs"
      ],
      "metadata": {
        "colab": {
          "base_uri": "https://localhost:8080/"
        },
        "id": "9UALx-UdWE6O",
        "outputId": "caa6a39c-f9e5-4310-f69b-e434735837cf"
      },
      "execution_count": 8,
      "outputs": [
        {
          "output_type": "execute_result",
          "data": {
            "text/plain": [
              "5"
            ]
          },
          "metadata": {},
          "execution_count": 8
        }
      ]
    },
    {
      "cell_type": "code",
      "source": [
        "train_loader = torch.utils.data.DataLoader(dataset=train_dataset, \n",
        "                                           batch_size=batch_size, \n",
        "                                           shuffle=True)"
      ],
      "metadata": {
        "id": "Rtv_B6f8WGRA"
      },
      "execution_count": 9,
      "outputs": []
    },
    {
      "cell_type": "code",
      "source": [
        "test_loader = torch.utils.data.DataLoader(dataset=test_dataset, \n",
        "                                          batch_size=batch_size, \n",
        "                                          shuffle=False)"
      ],
      "metadata": {
        "id": "1xfCjUbjWKjn"
      },
      "execution_count": 10,
      "outputs": []
    },
    {
      "cell_type": "code",
      "source": [
        "class LogisticRegressionModel(nn.Module):\n",
        "    def __init__(self, input_dim, output_dim):\n",
        "        super(LogisticRegressionModel, self).__init__()\n",
        "        self.linear = nn.Linear(input_dim, output_dim)\n",
        "\n",
        "    def forward(self, x):\n",
        "        out = self.linear(x)\n",
        "        return out"
      ],
      "metadata": {
        "id": "VGoIbe6bWQIo"
      },
      "execution_count": 11,
      "outputs": []
    },
    {
      "cell_type": "code",
      "source": [
        "input_dim = 28*28\n",
        "output_dim = 10"
      ],
      "metadata": {
        "id": "VLXxuUgOWsC8"
      },
      "execution_count": 12,
      "outputs": []
    },
    {
      "cell_type": "code",
      "source": [
        "model = LogisticRegressionModel(input_dim, output_dim)"
      ],
      "metadata": {
        "id": "V3Xy8-i6WvZW"
      },
      "execution_count": 13,
      "outputs": []
    },
    {
      "cell_type": "code",
      "source": [
        "criterion = nn.CrossEntropyLoss()  "
      ],
      "metadata": {
        "id": "vYXl4x1jWx-5"
      },
      "execution_count": 14,
      "outputs": []
    },
    {
      "cell_type": "code",
      "source": [
        "learning_rate = 0.001\n",
        "\n",
        "optimizer = torch.optim.SGD(model.parameters(), lr=learning_rate) "
      ],
      "metadata": {
        "id": "7QugCYy5W3m6"
      },
      "execution_count": 15,
      "outputs": []
    },
    {
      "cell_type": "code",
      "source": [
        "iter = 0\n",
        "for epoch in range(num_epochs):\n",
        "    for i, (images, labels) in enumerate(train_loader):\n",
        "        \n",
        "        images = images.view(-1, 28*28).requires_grad_()\n",
        "        labels = labels\n",
        "\n",
        "        optimizer.zero_grad()\n",
        "\n",
        "        outputs = model(images)\n",
        "\n",
        "        loss = criterion(outputs, labels)\n",
        "\n",
        "        loss.backward()\n",
        "\n",
        "        optimizer.step()\n",
        "\n",
        "        iter += 1\n",
        "\n",
        "        if iter % 500 == 0:\n",
        "                 \n",
        "            correct = 0\n",
        "            total = 0\n",
        "          \n",
        "            for images, labels in test_loader:\n",
        "              \n",
        "                images = images.view(-1, 28*28).requires_grad_()\n",
        "\n",
        "              \n",
        "                outputs = model(images)\n",
        "\n",
        "                _, predicted = torch.max(outputs.data, 1)\n",
        "\n",
        "                total += labels.size(0)\n",
        "\n",
        "                correct += (predicted == labels).sum()\n",
        "\n",
        "            accuracy = 100 * correct / total\n",
        "\n",
        "            \n",
        "            print('Iteration: {}. Loss: {}. Accuracy: {}'.format(iter, loss.item(), accuracy))"
      ],
      "metadata": {
        "colab": {
          "base_uri": "https://localhost:8080/"
        },
        "id": "dQq4JW_kW-xF",
        "outputId": "dc6fba70-fa26-4d8d-d990-76045c3afc89"
      },
      "execution_count": 16,
      "outputs": [
        {
          "output_type": "stream",
          "name": "stdout",
          "text": [
            "Iteration: 500. Loss: 1.8331000804901123. Accuracy: 68.1500015258789\n",
            "Iteration: 1000. Loss: 1.6044321060180664. Accuracy: 75.56999969482422\n",
            "Iteration: 1500. Loss: 1.2541276216506958. Accuracy: 78.87999725341797\n",
            "Iteration: 2000. Loss: 1.175275444984436. Accuracy: 80.83000183105469\n",
            "Iteration: 2500. Loss: 1.1568013429641724. Accuracy: 82.01000213623047\n",
            "Iteration: 3000. Loss: 0.9194238781929016. Accuracy: 82.7699966430664\n"
          ]
        }
      ]
    },
    {
      "cell_type": "code",
      "source": [
        "iter_test = 0\n",
        "for images, labels in test_loader:\n",
        "    iter_test += 1\n",
        "    images = images.view(-1, 28*28).requires_grad_()\n",
        "    outputs = model(images)\n",
        "    if iter_test == 1:\n",
        "        print('OUTPUTS')\n",
        "        print(outputs)\n",
        "    _, predicted = torch.max(outputs.data, 1)"
      ],
      "metadata": {
        "colab": {
          "base_uri": "https://localhost:8080/"
        },
        "id": "TYUSSbTlXvgU",
        "outputId": "f16da7a1-733d-4382-c5f2-c580372c4fc8"
      },
      "execution_count": 17,
      "outputs": [
        {
          "output_type": "stream",
          "name": "stdout",
          "text": [
            "OUTPUTS\n",
            "tensor([[-4.4865e-01, -1.1810e+00, -3.9384e-01, -2.0149e-01,  1.4982e-01,\n",
            "         -4.0730e-01, -1.0246e+00,  2.8202e+00, -3.7285e-01,  7.7710e-01],\n",
            "        [ 5.5879e-01,  1.5292e-01,  1.4814e+00,  1.0624e+00, -1.9591e+00,\n",
            "          8.2732e-01,  1.2868e+00, -1.7932e+00,  1.3278e-01, -1.6495e+00],\n",
            "        [-9.8499e-01,  2.3290e+00,  1.5072e-01,  1.6640e-01, -6.8971e-01,\n",
            "         -2.7085e-01, -3.0313e-01, -2.1233e-01,  2.8485e-01, -3.3337e-01],\n",
            "        [ 2.9013e+00, -2.5296e+00, -8.2553e-02, -3.1091e-01, -1.1311e+00,\n",
            "          6.5927e-01,  9.7033e-01,  1.5075e-01, -6.9668e-01, -5.1884e-01],\n",
            "        [-2.1097e-01, -2.3518e+00,  3.3307e-01, -7.2100e-01,  1.7499e+00,\n",
            "         -4.1194e-01,  1.5404e-01,  4.2941e-01, -6.0739e-02,  7.6049e-01],\n",
            "        [-1.4048e+00,  2.8358e+00,  1.1883e-01,  2.7256e-01, -7.3437e-01,\n",
            "         -4.2539e-01, -7.6897e-01, -4.0427e-02,  5.4660e-01, -2.1985e-01],\n",
            "        [-1.2367e+00, -1.1731e+00, -5.9871e-01,  2.7296e-01,  1.6158e+00,\n",
            "          5.0010e-01, -6.3883e-01,  8.1619e-01,  5.9648e-01,  8.6173e-01],\n",
            "        [-1.2215e+00, -3.7562e-01, -5.1196e-01, -1.5544e-03,  5.7293e-01,\n",
            "          2.3293e-01,  4.0560e-01, -2.2839e-01, -1.5952e-01,  1.3411e+00],\n",
            "        [ 4.6134e-01, -9.6206e-01,  9.4191e-01, -1.3334e+00,  7.5295e-01,\n",
            "          3.6439e-01,  6.6569e-01, -1.0430e+00,  1.5307e-02,  4.6934e-02],\n",
            "        [-7.6272e-01, -7.9271e-01, -1.3161e+00, -1.0798e+00,  9.8343e-01,\n",
            "         -2.9791e-01, -4.9520e-01,  1.6781e+00, -3.9635e-02,  1.6716e+00],\n",
            "        [ 3.2308e+00, -1.8639e+00,  7.0487e-01,  8.1877e-01, -8.2492e-01,\n",
            "          1.1139e+00, -4.9630e-01, -1.3773e+00,  5.7169e-01, -1.8353e+00],\n",
            "        [ 8.8865e-01, -4.6437e-01,  4.9402e-01, -1.4989e-01,  2.9963e-01,\n",
            "         -2.1765e-01,  5.6786e-01, -8.4460e-01,  9.2923e-02, -6.2798e-01],\n",
            "        [-7.2513e-01, -1.7323e+00, -8.4107e-01, -1.0141e+00,  1.4329e+00,\n",
            "         -1.8281e-01, -3.6692e-01,  1.0134e+00,  7.1280e-02,  2.1495e+00],\n",
            "        [ 3.0192e+00, -2.4476e+00, -1.3484e-01, -3.8224e-01, -7.1463e-01,\n",
            "          6.2471e-01, -4.4814e-01, -8.1330e-01,  6.1019e-01,  9.3102e-02],\n",
            "        [-1.2858e+00,  2.8209e+00, -9.9876e-02,  4.5854e-01, -1.1383e+00,\n",
            "         -1.8749e-01, -7.3738e-02, -1.7576e-01,  1.9895e-01, -2.7855e-01],\n",
            "        [ 4.8640e-01, -6.8295e-01, -1.9538e-02,  1.2748e+00, -4.4140e-01,\n",
            "          8.7784e-01, -4.1164e-01, -5.3585e-01,  4.5950e-01, -8.2673e-01],\n",
            "        [-2.4080e-01, -2.3665e+00, -3.7445e-02, -5.8904e-01,  1.1654e+00,\n",
            "         -5.9697e-01, -3.6604e-01,  8.7837e-01,  1.0401e-01,  1.6015e+00],\n",
            "        [ 1.5253e-01, -1.5778e+00, -4.6715e-01,  4.1986e-01, -1.8806e-01,\n",
            "         -2.6274e-01, -7.2844e-01,  2.6876e+00, -7.6605e-01,  4.0530e-01],\n",
            "        [-6.4311e-01, -3.5396e-01,  4.2348e-02,  1.4671e+00, -3.7367e-01,\n",
            "          2.9490e-01,  9.3735e-01, -7.5122e-01, -6.3825e-02, -3.8866e-01],\n",
            "        [-8.8165e-01, -1.5665e+00, -4.8097e-01, -2.1629e-01,  1.8696e+00,\n",
            "         -2.9116e-02, -2.0284e-01,  1.2880e-01,  9.4299e-02,  1.1409e+00],\n",
            "        [-1.1239e+00, -2.2775e-01, -1.4571e+00,  7.8080e-02,  4.2247e-01,\n",
            "          3.2491e-01, -1.1563e+00,  1.8109e+00,  3.1432e-01,  1.6869e+00],\n",
            "        [-4.7345e-01, -1.6576e+00, -3.7872e-03,  1.3400e-01,  2.9314e-01,\n",
            "          5.7422e-01,  2.1867e+00, -1.5220e+00,  6.3446e-02, -8.9633e-02],\n",
            "        [-1.7258e-01,  2.8163e-02,  4.2284e-01, -5.0135e-01,  8.1160e-01,\n",
            "         -8.4563e-01,  1.0358e+00, -8.7398e-02, -3.1876e-01, -2.5978e-01],\n",
            "        [-1.0657e-01, -9.8411e-01, -7.5400e-01,  2.5753e-01,  3.1543e-02,\n",
            "          1.2960e+00,  2.9150e-01, -8.6749e-01,  6.8974e-01, -1.0043e-01],\n",
            "        [-7.1909e-01, -1.1537e+00,  3.0366e-02, -9.9808e-03,  1.4382e+00,\n",
            "         -1.6959e-01, -1.4638e-01,  2.7950e-01, -4.1305e-01,  1.0034e+00],\n",
            "        [ 4.1416e+00, -3.1047e+00,  6.9602e-01, -1.3014e+00, -2.8676e-01,\n",
            "          1.1153e+00,  7.2236e-01, -7.5564e-01,  1.0035e-01, -1.5497e+00],\n",
            "        [-1.6729e-01, -1.3521e+00, -5.0559e-01,  1.5108e-01,  2.8605e-01,\n",
            "         -3.8839e-01, -5.2349e-01,  1.5862e+00, -5.2301e-01,  1.1192e+00],\n",
            "        [-4.1977e-01, -2.4867e+00, -5.5710e-01, -9.0141e-01,  2.3318e+00,\n",
            "          2.4256e-02,  8.2939e-02, -2.2582e-01,  1.1531e-01,  1.3333e+00],\n",
            "        [ 2.6116e+00, -2.3631e+00,  1.2453e-01,  8.2109e-01, -1.3531e+00,\n",
            "          7.4721e-01, -4.6967e-01, -7.9592e-01,  6.3284e-01, -6.1264e-01],\n",
            "        [-1.0049e+00,  1.5300e+00, -1.9140e-01,  1.9376e-01, -5.1903e-01,\n",
            "          1.5726e-01,  1.8584e-01, -2.2555e-01,  3.0105e-01, -2.1850e-01],\n",
            "        [-9.8917e-01, -3.1302e-02, -9.1377e-01,  2.2798e+00, -1.0620e+00,\n",
            "          8.7311e-01, -3.3263e-01,  5.2090e-01, -8.0420e-02, -1.6372e-01],\n",
            "        [-9.2388e-01,  1.1679e+00, -3.0388e-01,  3.5500e-01, -3.5966e-01,\n",
            "         -1.0676e-01, -1.7516e-01,  4.7379e-02,  2.1101e-01,  1.4780e-01],\n",
            "        [-1.0699e+00, -5.0720e-01, -6.5084e-01,  2.3861e+00, -4.2932e-01,\n",
            "          1.3050e+00, -3.0169e-01, -8.4133e-01,  3.1872e-01, -2.5943e-01],\n",
            "        [ 1.8965e+00, -1.9396e+00,  5.3423e-01, -1.9244e+00,  8.0557e-01,\n",
            "          1.0078e-01,  1.4900e+00, -7.1417e-01, -3.6835e-01, -5.0315e-01],\n",
            "        [-1.2843e+00, -2.7818e-01,  5.3451e-01, -3.2434e-01,  1.2231e-02,\n",
            "         -5.1681e-01, -1.5349e+00,  1.8706e+00,  7.8500e-01,  6.1798e-01],\n",
            "        [ 4.2369e-01, -1.2093e+00,  2.4782e+00,  2.7694e-01, -6.8859e-01,\n",
            "          1.2499e-01,  3.6314e-01, -3.6918e-01,  3.9034e-01, -1.6041e+00],\n",
            "        [-4.6858e-01, -1.5797e+00,  1.4651e-01, -1.1208e-01, -2.9173e-02,\n",
            "         -3.4464e-01, -6.0332e-01,  2.4879e+00, -3.1499e-01,  1.0506e+00],\n",
            "        [-1.1815e+00,  2.2209e+00, -3.1194e-01,  9.4408e-02, -6.4653e-01,\n",
            "         -3.3961e-02, -7.8294e-02,  1.2405e-02,  2.6771e-01, -4.1260e-02],\n",
            "        [ 3.5660e-01,  4.9359e-01,  7.5122e-01,  1.1338e+00, -1.9444e+00,\n",
            "          4.0941e-01,  3.7836e-01, -1.1212e+00,  5.5090e-01, -1.2983e+00],\n",
            "        [-1.3292e+00,  3.0734e+00, -1.3992e-01,  4.8024e-01, -1.4200e+00,\n",
            "          5.0078e-02, -2.3687e-01, -4.3135e-01,  5.6513e-01, -2.6574e-01],\n",
            "        [-6.3598e-01,  1.7073e+00, -2.3887e-02,  1.0822e-01, -6.0652e-01,\n",
            "         -1.0046e-01,  1.7387e-02, -1.0212e-01, -2.9256e-02, -2.5863e-01],\n",
            "        [-7.1474e-01, -8.9358e-01, -1.0579e-01, -2.6949e-01,  6.5844e-04,\n",
            "         -3.0500e-01, -6.0434e-01,  2.0455e+00, -2.6118e-01,  1.2823e+00],\n",
            "        [-1.9423e+00, -4.7962e-01, -1.5985e-01, -3.7276e-01,  2.0940e+00,\n",
            "         -5.2094e-01, -8.9605e-01,  5.7308e-01,  3.5070e-01,  1.6045e+00],\n",
            "        [-4.8543e-01,  8.2871e-01,  1.2020e+00, -6.2549e-02, -2.6928e-02,\n",
            "         -3.4034e-01,  2.7271e-01, -1.2487e+00,  5.2846e-01, -2.8272e-01],\n",
            "        [-1.2016e+00,  2.3749e-01, -2.3666e-02,  1.4024e+00, -6.1124e-01,\n",
            "          4.6360e-01,  4.0317e-01, -1.6334e-01, -1.8964e-02, -5.0976e-01],\n",
            "        [ 8.0634e-02, -1.3147e+00, -3.9460e-01,  1.5686e+00, -5.1413e-01,\n",
            "          1.3962e+00,  7.9412e-02, -1.1525e+00,  8.2932e-01, -2.8386e-01],\n",
            "        [-1.5964e+00,  2.3461e-01,  9.5878e-03,  7.8695e-01, -3.5423e-03,\n",
            "          3.0270e-01,  1.6258e-01, -1.4102e-01,  2.4549e-01,  1.6469e-01],\n",
            "        [-8.0644e-01, -3.0617e-01,  1.5021e+00, -5.0845e-01,  3.9457e-01,\n",
            "         -6.6843e-01,  6.5131e-01, -2.8001e-01, -1.6574e-01,  1.0625e-01],\n",
            "        [-1.0185e+00, -2.8865e+00, -1.2393e+00, -8.8621e-02,  2.7000e+00,\n",
            "          4.2330e-01, -9.1243e-01,  2.9092e-01,  5.3575e-01,  2.0859e+00],\n",
            "        [-5.2684e-01, -2.4239e+00,  3.6741e-01, -8.8271e-01,  2.1139e+00,\n",
            "         -8.5131e-01,  2.2583e-01,  9.4504e-02, -4.9019e-01,  6.7496e-01],\n",
            "        [-4.8945e-02, -1.0057e+00,  1.7001e-01,  2.0990e-01, -5.4502e-01,\n",
            "          5.8102e-01,  2.1820e+00, -1.0698e+00, -1.2092e-01, -4.5565e-01],\n",
            "        [ 9.1650e-02, -9.1135e-01, -2.9564e-01,  1.9166e+00, -8.1489e-01,\n",
            "          5.0900e-01,  4.7410e-02, -3.5453e-01, -4.1932e-01,  5.8108e-02],\n",
            "        [ 4.3975e-01, -1.2477e+00, -1.4701e+00, -1.4836e-02,  8.2394e-01,\n",
            "          1.4420e+00, -2.4477e-01, -2.3846e-01, -2.4992e-01,  3.8883e-01],\n",
            "        [ 3.7299e-01, -5.7847e-01, -2.4557e-01,  9.4805e-01, -2.0752e-01,\n",
            "          7.0344e-01, -2.0763e-01, -6.2843e-01,  3.9936e-01, -2.5420e-01],\n",
            "        [ 9.8549e-02, -4.8840e-01,  1.1676e+00, -1.7286e-01,  6.2936e-01,\n",
            "         -7.3576e-01,  6.5326e-01, -4.5878e-01, -3.9392e-01, -9.9383e-01],\n",
            "        [ 1.5917e+00, -2.2344e+00, -4.3867e-01,  3.6673e-01, -1.0386e+00,\n",
            "          9.8708e-01,  3.8727e-01, -8.1890e-01,  1.3329e+00, -1.1268e-01],\n",
            "        [-1.2693e-01, -2.9543e+00, -2.4641e-01, -5.6326e-01,  2.6441e+00,\n",
            "         -1.1250e-02,  2.9091e-01, -4.0139e-01, -6.7002e-02,  8.1539e-01],\n",
            "        [-9.3682e-01,  2.3669e+00,  1.4375e-02,  3.8837e-01, -9.6092e-01,\n",
            "         -3.1029e-01, -5.8413e-01, -1.9092e-01,  3.8522e-01, -8.2555e-02],\n",
            "        [-2.8993e-01, -2.1640e+00, -1.0686e+00, -8.7643e-01,  1.5137e+00,\n",
            "         -4.8696e-01, -1.5778e-01,  8.6991e-01, -3.9325e-01,  1.9428e+00],\n",
            "        [ 1.7461e-02,  2.0283e-01, -5.9920e-01, -2.4892e-01,  2.6123e-01,\n",
            "          6.4303e-01, -3.2918e-01,  4.9017e-01,  1.0978e-01, -8.4079e-02],\n",
            "        [-2.1834e-01, -1.7708e+00, -6.0992e-01,  7.5479e-01, -1.8931e-02,\n",
            "         -3.7881e-01, -1.1864e-01,  2.1406e+00, -7.7330e-01,  6.1229e-01],\n",
            "        [ 1.9208e-01, -1.0035e+00,  8.9728e-01, -1.4329e+00, -1.8717e-01,\n",
            "         -1.5480e-01,  5.2761e-01, -4.4061e-01,  1.2336e+00,  2.5708e-01],\n",
            "        [-7.7276e-01, -1.0044e+00, -2.9754e-02, -2.7598e-01,  6.1312e-01,\n",
            "          1.9099e-01,  1.1529e-01,  6.6418e-02,  6.4956e-01,  1.1292e+00],\n",
            "        [-1.0046e+00, -2.0404e-01,  1.1938e+00,  6.1770e-01, -1.8321e-01,\n",
            "         -2.1287e-01, -2.7874e-01, -7.9508e-01,  6.8632e-01,  1.8850e-01],\n",
            "        [-1.2275e+00, -7.0347e-01,  6.7179e-02, -5.1996e-01,  8.1245e-01,\n",
            "         -7.2751e-01, -4.3517e-01,  1.5846e+00,  1.9450e-01,  6.3673e-01],\n",
            "        [-1.2910e+00, -5.7130e-01, -6.6600e-01,  6.7444e-01,  5.2466e-01,\n",
            "          3.2909e-01,  8.7957e-02, -1.6529e-01,  6.2815e-01,  9.5397e-01],\n",
            "        [ 2.0217e-01, -1.3077e-01,  8.1956e-01, -2.0350e-01,  4.1004e-01,\n",
            "         -6.8607e-01,  4.8071e-01, -8.6663e-02, -5.4959e-01, -8.2049e-01],\n",
            "        [-4.9861e-01, -1.8021e+00,  4.7479e-01, -9.3159e-01,  2.4062e+00,\n",
            "         -6.5755e-01, -2.6339e-01,  4.2551e-01,  1.7432e-01,  6.9116e-01],\n",
            "        [-1.4905e+00, -4.0977e-01, -2.9689e-01,  2.5179e+00, -5.8324e-01,\n",
            "          9.5236e-01, -9.8078e-01, -7.2878e-01,  8.9245e-01, -2.1834e-01],\n",
            "        [ 2.6253e+00, -1.4390e+00,  8.2493e-01, -7.8114e-01, -1.2638e+00,\n",
            "          5.9207e-01,  1.6437e-01,  4.0975e-02, -5.8153e-02, -3.1957e-01],\n",
            "        [ 4.0330e-01, -1.3249e+00, -6.1657e-01,  1.1013e-01, -1.4443e-01,\n",
            "         -5.2663e-01, -6.5259e-01,  2.9013e+00, -7.2229e-01,  4.2948e-01],\n",
            "        [ 4.3860e+00, -2.9253e+00,  1.0556e+00,  7.5645e-02, -1.0710e+00,\n",
            "          1.1546e+00, -5.9252e-02, -1.4542e+00,  2.4494e-01, -1.7173e+00],\n",
            "        [ 1.3577e+00, -1.0473e+00,  1.8178e+00,  1.1141e+00, -7.3537e-01,\n",
            "          3.6703e-01,  3.9703e-01, -1.0369e+00,  1.8246e-01, -2.1354e+00],\n",
            "        [-1.6976e+00,  8.4365e-01, -1.5780e-03, -5.6029e-03, -8.0358e-01,\n",
            "         -4.9748e-01, -1.0252e+00,  7.3833e-01,  1.2397e+00,  5.7361e-01],\n",
            "        [-1.2786e+00,  2.4801e+00, -4.0242e-01,  7.7175e-02, -9.5128e-01,\n",
            "          5.1745e-02, -2.4010e-02, -1.9639e-03,  4.6108e-01, -1.4651e-01],\n",
            "        [-1.7396e+00,  7.4164e-01, -4.0186e-01, -4.7572e-01,  8.1580e-01,\n",
            "         -5.7976e-01, -5.7373e-01,  1.7756e+00,  4.1970e-02,  7.5419e-01],\n",
            "        [-2.2190e-01,  1.6439e-01, -3.0219e-01,  2.2650e+00, -1.0740e+00,\n",
            "          9.6988e-01, -5.5129e-01, -9.3074e-01,  4.4727e-01, -7.9961e-01],\n",
            "        [-7.2133e-01, -4.8485e-01,  7.3452e-01, -5.2078e-01,  8.9961e-04,\n",
            "         -6.0094e-01, -4.0808e-02,  1.6389e+00, -3.3810e-01,  6.4370e-01],\n",
            "        [-1.6666e+00,  9.9200e-01, -8.5403e-01,  1.3179e-01, -5.3565e-02,\n",
            "          1.5517e-01, -5.1872e-01,  4.7718e-01,  1.0273e+00,  6.9396e-01],\n",
            "        [-8.2147e-01, -7.1015e-01, -5.3837e-01, -9.3987e-01,  5.2817e-02,\n",
            "         -4.6503e-01, -1.3826e+00,  3.3128e+00,  3.3896e-01,  7.9095e-01],\n",
            "        [-5.0561e-01, -1.8888e+00, -9.8881e-01,  3.1681e-02,  7.7412e-01,\n",
            "          3.9713e-01, -3.1418e-01,  1.4326e+00, -4.9305e-01,  1.9404e+00],\n",
            "        [ 1.2207e-01, -1.8643e+00,  5.5300e-01, -7.2800e-01, -6.5692e-02,\n",
            "          2.3231e-01,  2.2618e+00, -6.7101e-01, -2.8652e-01,  1.6623e-01],\n",
            "        [-6.6394e-01, -1.4811e+00,  3.9244e+00, -1.5766e-01, -4.1847e-02,\n",
            "         -8.2196e-01,  9.4029e-01, -8.8096e-01,  5.1402e-01, -1.1854e+00],\n",
            "        [-6.0304e-01, -1.7419e+00, -6.1722e-01,  4.2327e-02,  6.9288e-01,\n",
            "         -1.8874e-01, -8.6057e-01,  2.0633e+00, -2.8443e-01,  1.5201e+00],\n",
            "        [-7.7096e-01, -4.7737e-02, -2.8672e-01, -3.1821e-01,  5.9270e-01,\n",
            "          7.4379e-01, -6.7214e-01, -6.8530e-01,  1.0936e+00,  6.1334e-01],\n",
            "        [-1.0638e+00, -2.7856e+00, -8.5964e-01,  1.4627e-01,  2.7773e+00,\n",
            "          2.8119e-01, -3.9485e-01, -3.4020e-01,  3.0099e-01,  1.2799e+00],\n",
            "        [-1.9116e+00,  5.6989e-01, -2.6427e-01, -6.4177e-01, -6.0361e-02,\n",
            "         -7.1614e-01, -1.2325e+00,  3.0170e+00,  2.7355e-01,  9.5574e-01],\n",
            "        [-1.0258e-01, -1.5346e+00, -9.2397e-01,  1.8181e+00, -3.2026e-01,\n",
            "          1.2416e+00,  6.7004e-01, -4.7046e-01, -2.2989e-01, -2.9273e-01],\n",
            "        [-2.2551e-01, -2.2653e+00,  6.7245e-01, -1.3293e+00,  1.1730e+00,\n",
            "         -5.2707e-01,  2.4238e+00, -2.2078e-01, -5.9846e-01,  4.0117e-01],\n",
            "        [-1.7351e+00,  3.0870e+00,  3.7696e-01,  1.1625e-01, -6.9310e-01,\n",
            "         -4.1297e-01, -3.3730e-01, -2.5039e-01,  6.6336e-01, -5.7430e-01],\n",
            "        [ 3.4004e-01, -6.4131e-01,  4.5367e-02,  2.6112e+00, -1.1668e+00,\n",
            "          8.0121e-01, -1.3375e+00, -6.1638e-01,  5.6576e-01, -5.6363e-01],\n",
            "        [-8.5125e-01, -8.8226e-01,  3.1247e-01, -7.1618e-01,  4.0029e-01,\n",
            "         -6.4911e-02,  2.5974e+00, -1.3661e+00,  1.0855e-01,  7.7331e-02],\n",
            "        [-1.0292e+00, -3.2339e-02,  6.8807e-02, -5.6236e-01,  6.6061e-01,\n",
            "         -1.0870e-01, -1.6048e-01, -6.6012e-02,  8.4104e-01,  5.3594e-01],\n",
            "        [-9.7177e-01, -4.8795e-01, -7.0676e-01,  2.7495e+00, -1.4204e+00,\n",
            "          1.0534e+00, -1.0047e+00,  7.4860e-01,  5.5398e-01, -8.8069e-02],\n",
            "        [-2.0729e+00,  1.9060e+00, -6.0172e-02,  3.1786e-01, -3.9632e-01,\n",
            "          1.9272e-01,  4.2281e-01, -2.6477e-01,  8.0444e-01, -8.2415e-02],\n",
            "        [-7.4159e-01, -5.9765e-01, -2.5248e-01, -1.1184e+00,  2.1409e+00,\n",
            "         -4.7924e-01,  3.6727e-01, -3.5608e-01, -1.2702e-01,  1.0084e+00],\n",
            "        [-1.1178e+00,  5.2857e-01, -4.5406e-01,  3.6703e-01, -6.9428e-02,\n",
            "          8.8158e-02, -1.4838e-01,  1.2085e-01,  3.5512e-01,  2.2007e-01],\n",
            "        [-1.7869e+00,  1.4830e+00, -5.7178e-01,  1.8830e-01, -2.3665e-01,\n",
            "         -1.0740e-01, -1.1941e-02,  1.0482e+00,  9.5297e-02,  4.2435e-01],\n",
            "        [ 1.1761e+00, -1.2440e+00,  6.0017e-01, -7.7294e-01, -4.3783e-01,\n",
            "          6.0851e-01,  1.6944e+00, -1.0522e+00, -1.3155e-01, -6.7137e-01],\n",
            "        [-1.2288e+00, -1.8962e+00, -6.9401e-02, -4.8540e-01,  1.4815e+00,\n",
            "         -9.2822e-01, -3.2133e-01,  5.2585e-01, -2.0452e-03,  2.2511e+00]],\n",
            "       grad_fn=<AddmmBackward0>)\n"
          ]
        }
      ]
    },
    {
      "cell_type": "code",
      "source": [
        "iter_test = 0\n",
        "for images, labels in test_loader:\n",
        "    iter_test += 1\n",
        "    images = images.view(-1, 28*28).requires_grad_()\n",
        "    outputs = model(images)\n",
        "    _, predicted = torch.max(outputs.data, 1)\n",
        "    if iter_test == 1:\n",
        "        print('PREDICTION')\n",
        "        print(predicted[0])"
      ],
      "metadata": {
        "colab": {
          "base_uri": "https://localhost:8080/"
        },
        "id": "_zng4jHhY-JT",
        "outputId": "9c96270b-c2e6-4d7b-86bf-6fb4403a6174"
      },
      "execution_count": 18,
      "outputs": [
        {
          "output_type": "stream",
          "name": "stdout",
          "text": [
            "PREDICTION\n",
            "tensor(7)\n"
          ]
        }
      ]
    },
    {
      "cell_type": "code",
      "source": [
        "correct = 0\n",
        "total = 0\n",
        "iter_test = 0\n",
        "for images, labels in test_loader:\n",
        "    iter_test += 1\n",
        "    images = images.view(-1, 28*28).requires_grad_()\n",
        "    outputs = model(images)\n",
        "    _, predicted = torch.max(outputs.data, 1)\n",
        "\n",
        "  \n",
        "    total += labels.size(0)\n",
        "\n",
        "    correct += (predicted == labels).sum()\n",
        "\n",
        "accuracy = 100 * (correct.item() / total)\n",
        "\n",
        "print(accuracy)"
      ],
      "metadata": {
        "colab": {
          "base_uri": "https://localhost:8080/"
        },
        "id": "xFbhbxLXZm4a",
        "outputId": "c5fc8323-cc42-400d-9fdd-29cf75826170"
      },
      "execution_count": 19,
      "outputs": [
        {
          "output_type": "stream",
          "name": "stdout",
          "text": [
            "82.77\n"
          ]
        }
      ]
    },
    {
      "cell_type": "code",
      "source": [],
      "metadata": {
        "id": "teJgd_33ZtWc"
      },
      "execution_count": null,
      "outputs": []
    }
  ]
}