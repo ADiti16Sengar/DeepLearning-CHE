{
  "nbformat": 4,
  "nbformat_minor": 0,
  "metadata": {
    "colab": {
      "provenance": [],
      "authorship_tag": "ABX9TyMXxQQfaoe02HUalQzcPgho",
      "include_colab_link": true
    },
    "kernelspec": {
      "name": "python3",
      "display_name": "Python 3"
    },
    "language_info": {
      "name": "python"
    }
  },
  "cells": [
    {
      "cell_type": "markdown",
      "metadata": {
        "id": "view-in-github",
        "colab_type": "text"
      },
      "source": [
        "<a href=\"https://colab.research.google.com/github/ADiti16Sengar/DeepLearning-CHE/blob/main/ANNusingPytorch.ipynb\" target=\"_parent\"><img src=\"https://colab.research.google.com/assets/colab-badge.svg\" alt=\"Open In Colab\"/></a>"
      ]
    },
    {
      "cell_type": "code",
      "source": [
        "import torch\n",
        "import torch.nn as nn\n",
        "import torch.optim as optim\n",
        "from torch.utils.data import DataLoader, TensorDataset\n"
      ],
      "metadata": {
        "id": "r2qe1u2taBvJ"
      },
      "execution_count": 100,
      "outputs": []
    },
    {
      "cell_type": "code",
      "source": [
        "import pandas as pd\n",
        "\n",
        "df=pd.read_excel('data.xlsx')\n",
        "df=df.values\n",
        "Xdataset=df[:,0:4]\n",
        "Ydataset=df[:,4:5]\n",
        "\n",
        "from sklearn.model_selection import train_test_split\n",
        "\n",
        "\n",
        "X, x_test, y, y_test = train_test_split(Xdataset, Ydataset, test_size=0.2, random_state=42)\n",
        "X = torch.from_numpy(X)\n",
        "y = torch.from_numpy(y)\n",
        "x_test = torch.from_numpy(x_test)"
      ],
      "metadata": {
        "id": "PrZozsStaMl_"
      },
      "execution_count": 117,
      "outputs": []
    },
    {
      "cell_type": "code",
      "source": [
        "dataset = TensorDataset(X, y)\n",
        "dataloader = DataLoader(dataset, batch_size=16, shuffle=True)\n"
      ],
      "metadata": {
        "id": "sel0mL0naecL"
      },
      "execution_count": 118,
      "outputs": []
    },
    {
      "cell_type": "code",
      "source": [
        "class Net(nn.Module):\n",
        "    def __init__(self):\n",
        "        super(Net, self).__init__()\n",
        "        self.fc1 = nn.Linear(4, 64)\n",
        "        self.fc2 = nn.Linear(64, 32)\n",
        "        self.fc3 = nn.Linear(32, 1)\n",
        "        self.relu = nn.ReLU()\n",
        "        self.softmax = nn.Softmax(dim=1)\n",
        "\n",
        "    def forward(self, x):\n",
        "        x = self.fc1(x)\n",
        "        x = self.relu(x)\n",
        "        x = self.fc2(x)\n",
        "        x = self.relu(x)\n",
        "        x = self.fc3(x)\n",
        "        x = self.softmax(x)\n",
        "        return x\n"
      ],
      "metadata": {
        "id": "ChPJIQ3HakSm"
      },
      "execution_count": 119,
      "outputs": []
    },
    {
      "cell_type": "code",
      "source": [
        "net = Net()\n"
      ],
      "metadata": {
        "id": "oPLNwv02apoA"
      },
      "execution_count": 120,
      "outputs": []
    },
    {
      "cell_type": "code",
      "source": [
        "criterion = nn.CrossEntropyLoss()\n",
        "optimizer = optim.SGD(net.parameters(), lr=0.01)\n"
      ],
      "metadata": {
        "id": "ZNFMfkj8atqY"
      },
      "execution_count": 121,
      "outputs": []
    },
    {
      "cell_type": "code",
      "source": [
        "for epoch in range(100):\n",
        "    running_loss = 0.0\n",
        "    for i, data in enumerate(dataloader, 0):\n",
        "        inputs, labels = data\n",
        "        optimizer.zero_grad()\n",
        "        weight_dtype = net.fc1.weight.dtype\n",
        "        inputs = inputs.to(weight_dtype)\n",
        "        outputs = net(inputs)\n",
        "        loss = criterion(outputs, labels)\n",
        "        loss.backward()\n",
        "        optimizer.step()\n",
        "        running_loss += loss.item()\n",
        "    print(f\"Epoch {epoch+1}, Loss: {running_loss/len(dataloader):.3f}\")\n"
      ],
      "metadata": {
        "colab": {
          "base_uri": "https://localhost:8080/"
        },
        "id": "_6ZXyhehawzC",
        "outputId": "d81fb969-067e-41d7-a21a-af4e4cfcf735"
      },
      "execution_count": 129,
      "outputs": [
        {
          "output_type": "stream",
          "name": "stdout",
          "text": [
            "Epoch 1, Loss: 0.000\n",
            "Epoch 2, Loss: 0.000\n",
            "Epoch 3, Loss: 0.000\n",
            "Epoch 4, Loss: 0.000\n",
            "Epoch 5, Loss: 0.000\n",
            "Epoch 6, Loss: 0.000\n",
            "Epoch 7, Loss: 0.000\n",
            "Epoch 8, Loss: 0.000\n",
            "Epoch 9, Loss: 0.000\n",
            "Epoch 10, Loss: 0.000\n",
            "Epoch 11, Loss: 0.000\n",
            "Epoch 12, Loss: 0.000\n",
            "Epoch 13, Loss: 0.000\n",
            "Epoch 14, Loss: 0.000\n",
            "Epoch 15, Loss: 0.000\n",
            "Epoch 16, Loss: 0.000\n",
            "Epoch 17, Loss: 0.000\n",
            "Epoch 18, Loss: 0.000\n",
            "Epoch 19, Loss: 0.000\n",
            "Epoch 20, Loss: 0.000\n",
            "Epoch 21, Loss: 0.000\n",
            "Epoch 22, Loss: 0.000\n",
            "Epoch 23, Loss: 0.000\n",
            "Epoch 24, Loss: 0.000\n",
            "Epoch 25, Loss: 0.000\n",
            "Epoch 26, Loss: 0.000\n",
            "Epoch 27, Loss: 0.000\n",
            "Epoch 28, Loss: 0.000\n",
            "Epoch 29, Loss: 0.000\n",
            "Epoch 30, Loss: 0.000\n",
            "Epoch 31, Loss: 0.000\n",
            "Epoch 32, Loss: 0.000\n",
            "Epoch 33, Loss: 0.000\n",
            "Epoch 34, Loss: 0.000\n",
            "Epoch 35, Loss: 0.000\n",
            "Epoch 36, Loss: 0.000\n",
            "Epoch 37, Loss: 0.000\n",
            "Epoch 38, Loss: 0.000\n",
            "Epoch 39, Loss: 0.000\n",
            "Epoch 40, Loss: 0.000\n",
            "Epoch 41, Loss: 0.000\n",
            "Epoch 42, Loss: 0.000\n",
            "Epoch 43, Loss: 0.000\n",
            "Epoch 44, Loss: 0.000\n",
            "Epoch 45, Loss: 0.000\n",
            "Epoch 46, Loss: 0.000\n",
            "Epoch 47, Loss: 0.000\n",
            "Epoch 48, Loss: 0.000\n",
            "Epoch 49, Loss: 0.000\n",
            "Epoch 50, Loss: 0.000\n",
            "Epoch 51, Loss: 0.000\n",
            "Epoch 52, Loss: 0.000\n",
            "Epoch 53, Loss: 0.000\n",
            "Epoch 54, Loss: 0.000\n",
            "Epoch 55, Loss: 0.000\n",
            "Epoch 56, Loss: 0.000\n",
            "Epoch 57, Loss: 0.000\n",
            "Epoch 58, Loss: 0.000\n",
            "Epoch 59, Loss: 0.000\n",
            "Epoch 60, Loss: 0.000\n",
            "Epoch 61, Loss: 0.000\n",
            "Epoch 62, Loss: 0.000\n",
            "Epoch 63, Loss: 0.000\n",
            "Epoch 64, Loss: 0.000\n",
            "Epoch 65, Loss: 0.000\n",
            "Epoch 66, Loss: 0.000\n",
            "Epoch 67, Loss: 0.000\n",
            "Epoch 68, Loss: 0.000\n",
            "Epoch 69, Loss: 0.000\n",
            "Epoch 70, Loss: 0.000\n",
            "Epoch 71, Loss: 0.000\n",
            "Epoch 72, Loss: 0.000\n",
            "Epoch 73, Loss: 0.000\n",
            "Epoch 74, Loss: 0.000\n",
            "Epoch 75, Loss: 0.000\n",
            "Epoch 76, Loss: 0.000\n",
            "Epoch 77, Loss: 0.000\n",
            "Epoch 78, Loss: 0.000\n",
            "Epoch 79, Loss: 0.000\n",
            "Epoch 80, Loss: 0.000\n",
            "Epoch 81, Loss: 0.000\n",
            "Epoch 82, Loss: 0.000\n",
            "Epoch 83, Loss: 0.000\n",
            "Epoch 84, Loss: 0.000\n",
            "Epoch 85, Loss: 0.000\n",
            "Epoch 86, Loss: 0.000\n",
            "Epoch 87, Loss: 0.000\n",
            "Epoch 88, Loss: 0.000\n",
            "Epoch 89, Loss: 0.000\n",
            "Epoch 90, Loss: 0.000\n",
            "Epoch 91, Loss: 0.000\n",
            "Epoch 92, Loss: 0.000\n",
            "Epoch 93, Loss: 0.000\n",
            "Epoch 94, Loss: 0.000\n",
            "Epoch 95, Loss: 0.000\n",
            "Epoch 96, Loss: 0.000\n",
            "Epoch 97, Loss: 0.000\n",
            "Epoch 98, Loss: 0.000\n",
            "Epoch 99, Loss: 0.000\n",
            "Epoch 100, Loss: 0.000\n"
          ]
        }
      ]
    },
    {
      "cell_type": "code",
      "source": [
        "weight_dtype = net.fc1.weight.dtype\n",
        "\n",
        "# Convert the data type of the inputs tensor to match the data type of the weight tensor\n",
        "x_test = x_test.to(weight_dtype)"
      ],
      "metadata": {
        "id": "6lziKRAGfkEf"
      },
      "execution_count": 131,
      "outputs": []
    },
    {
      "cell_type": "code",
      "source": [
        "\n",
        "outputs = net(x_test)\n",
        "_, predicted = torch.max(outputs, 1)\n",
        "print(predicted)\n"
      ],
      "metadata": {
        "colab": {
          "base_uri": "https://localhost:8080/"
        },
        "id": "6E_gjQ0FdP9s",
        "outputId": "18061b81-1d31-4322-c84e-cd8dd5514e17"
      },
      "execution_count": 132,
      "outputs": [
        {
          "output_type": "stream",
          "name": "stdout",
          "text": [
            "tensor([0, 0, 0,  ..., 0, 0, 0])\n"
          ]
        }
      ]
    }
  ]
}